{
 "cells": [
  {
   "cell_type": "code",
   "execution_count": 99,
   "metadata": {},
   "outputs": [],
   "source": [
    "import numpy as np\n",
    "import matplotlib.pyplot as plt"
   ]
  },
  {
   "cell_type": "code",
   "execution_count": 100,
   "metadata": {},
   "outputs": [],
   "source": [
    "def f(x):\n",
    "    if (x > 0):\n",
    "        return x**2\n",
    "    return 1 + x**2"
   ]
  },
  {
   "cell_type": "code",
   "execution_count": 101,
   "metadata": {},
   "outputs": [],
   "source": [
    "def f_arr(x):\n",
    "    fx = np.zeros(len(x))\n",
    "    for i in range(len(x)):\n",
    "        x_i = x[i]\n",
    "        fx[i] = f(x_i)\n",
    "    return fx"
   ]
  },
  {
   "cell_type": "code",
   "execution_count": 102,
   "metadata": {},
   "outputs": [
    {
     "data": {
      "text/plain": [
       "[<matplotlib.lines.Line2D at 0x25c104f2440>]"
      ]
     },
     "execution_count": 102,
     "metadata": {},
     "output_type": "execute_result"
    },
    {
     "data": {
      "image/png": "[encoded data removed]",
      "text/plain": [
       "<Figure size 640x480 with 1 Axes>"
      ]
     },
     "metadata": {},
     "output_type": "display_data"
    }
   ],
   "source": [
    "x = np.linspace(-2,2,101)\n",
    "fx = f_arr(x)\n",
    "dx = x[1] - x[0]\n",
    "plt.plot(x,fx)"
   ]
  },
  {
   "cell_type": "code",
   "execution_count": 104,
   "metadata": {},
   "outputs": [],
   "source": [
    "i = 61\n",
    "fx_approx1 = 1/3 * fx[i-2] - 7/6 * fx[i-1] + 11/6 * fx[i]\n",
    "fx_approx2 = -1/6 * fx[i-1] + 5/6 * fx[i] + 1/3 * fx[i+1]\n",
    "fx_approx3 = 1/3 * fx[i] + 5/6 * fx[i+1] - 1/6 * fx[i+2]"
   ]
  },
  {
   "cell_type": "code",
   "execution_count": 105,
   "metadata": {},
   "outputs": [],
   "source": [
    "x_half = (x[i] + x[i+1])/2"
   ]
  },
  {
   "cell_type": "code",
   "execution_count": 106,
   "metadata": {},
   "outputs": [
    {
     "name": "stdout",
     "output_type": "stream",
     "text": [
      "0.00013333333333331865\n",
      "0.00013333333333331865\n",
      "0.0001333333333332909\n"
     ]
    }
   ],
   "source": [
    "print(f(x_half) - fx_approx1)\n",
    "print(f(x_half) - fx_approx2)\n",
    "print(f(x_half) - fx_approx3)"
   ]
  },
  {
   "cell_type": "code",
   "execution_count": 108,
   "metadata": {},
   "outputs": [
    {
     "data": {
      "text/plain": [
       "6.400000000000017e-05"
      ]
     },
     "execution_count": 108,
     "metadata": {},
     "output_type": "execute_result"
    }
   ],
   "source": [
    "dx**3"
   ]
  },
  {
   "cell_type": "markdown",
   "metadata": {},
   "source": [
    "We start with Third Order ENO\n",
    "\n",
    "First, we wish to find $u_{i+\\frac{1}{2}}$. We require that $x_{i+\\frac{1}{2}}$ and $x_{i-\\frac{1}{2}}$ are included in the stencil. So we take the initial stencil\n",
    "\n",
    "$$\n",
    "    \\tilde{S}_{2} = \\left\\{x_{i-\\frac{1}{2}}, x_{i+\\frac{1}{2}}\\right\\}\n",
    "$$\n",
    "\n",
    "Then we extend in either side to create two candidate stencils:\n",
    "\n",
    "$$\n",
    "    \\tilde{S}^{L}_{3} = \\left\\{x_{i-\\frac{3}{2}}, x_{i-\\frac{1}{2}}, x_{i+\\frac{1}{2}}\\right\\}, \\\\\n",
    "    \\tilde{S}^{R}_{3} = \\left\\{x_{i-\\frac{1}{2}}, x_{i+\\frac{1}{2}}, x_{i+\\frac{3}{2}}\\right\\}.\n",
    "$$\n",
    "\n",
    "We then take the absolute value of the divided differences as the basis for which one we choose. So, if\n",
    "\n",
    "$$\n",
    "    \\left|U[x_{i-\\frac{3}{2}}, x_{i-\\frac{1}{2}}, x_{i+\\frac{1}{2}}]\\right| < \\left|U[x_{i-\\frac{1}{2}}, x_{i-\\frac{1}{2}}, x_{i+\\frac{3}{2}}]\\right|\n",
    "$$\n",
    "\n",
    "Then we go with $\\tilde{S}^{L}_{3}$, else we go with $\\tilde{S}^{R}_{3}$.\n",
    "\n",
    "Here the divided differences are acquired recursively as\n",
    "\n",
    "$$\n",
    "U\\left[x_{i-\\frac{1}{2}}, x_{i+\\frac{1}{2}}\\right] = \\frac{U\\left(x_{i+\\frac{1}{2}}\\right) - U\\left(x_{i+\\frac{1}{2}}\\right)}{\\Delta x}\n",
    "$$"
   ]
  },
  {
   "cell_type": "markdown",
   "metadata": {},
   "source": []
  }
 ],
 "metadata": {
  "kernelspec": {
   "display_name": "Python 3",
   "language": "python",
   "name": "python3"
  },
  "language_info": {
   "codemirror_mode": {
    "name": "ipython",
    "version": 3
   },
   "file_extension": ".py",
   "mimetype": "text/x-python",
   "name": "python",
   "nbconvert_exporter": "python",
   "pygments_lexer": "ipython3",
   "version": "3.10.9"
  },
  "orig_nbformat": 4
 },
 "nbformat": 4,
 "nbformat_minor": 2
}

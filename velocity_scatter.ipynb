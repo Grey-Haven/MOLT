{
 "cells": [
  {
   "cell_type": "code",
   "execution_count": 77,
   "metadata": {},
   "outputs": [],
   "source": [
    "import numpy as np"
   ]
  },
  {
   "cell_type": "code",
   "execution_count": 78,
   "metadata": {},
   "outputs": [],
   "source": [
    "def compute_index(particle_x,offset,dx):\n",
    "    return (offset + np.floor(particle_x / dx)).astype(int)"
   ]
  },
  {
   "cell_type": "code",
   "execution_count": 79,
   "metadata": {},
   "outputs": [],
   "source": [
    "def compute_linear_weight(particle_x,x):\n",
    "    dx = x[1]-x[0]\n",
    "    i = compute_index(particle_x,x[0],dx)\n",
    "    return (particle_x - x[i])/dx"
   ]
  },
  {
   "cell_type": "code",
   "execution_count": null,
   "metadata": {},
   "outputs": [],
   "source": [
    "def compute_nearest_weight(particle_x,x):\n",
    "    dx = x[1]-x[0]\n",
    "    i = compute_index(particle_x,x[0],dx)\n",
    "    return np.round((particle_x - x[i])/dx)"
   ]
  },
  {
   "cell_type": "code",
   "execution_count": null,
   "metadata": {},
   "outputs": [],
   "source": [
    "def compute_ave_vel_grid_nearest(particles, ave_vel_grid_x, ave_vel_grid_y, x, y):\n",
    "    dx = x[1] - x[0]\n",
    "    dy = y[1] - y[0]\n",
    "    contributing_particles_grid = np.zeros(ave_vel_grid_x.shape)\n",
    "    for particle in particles:\n",
    "        wx = compute_linear_weight(particle[0], x)\n",
    "        wy = compute_linear_weight(particle[1], y)\n",
    "        i = compute_index(particle[0],x[0],dx)\n",
    "        j = compute_index(particle[1],x[0],dy)\n",
    "\n",
    "        ave_vel_grid_x[i][j] = ave_vel_grid_x[i][j] + (1-wx)*(1-wy)*particle[2]\n",
    "        ave_vel_grid_x[i+1][j] = ave_vel_grid_x[i+1][j] + (wx)*(1-wy)*particle[2]\n",
    "        ave_vel_grid_x[i][j+1] = ave_vel_grid_x[i][j+1] + (1-wx)*(wy)*particle[2]\n",
    "        ave_vel_grid_x[i+1][j+1] = ave_vel_grid_x[i+1][j+1] + (wx)*(wy)*particle[2]\n",
    "\n",
    "        ave_vel_grid_y[i][j] = ave_vel_grid_y[i][j] + (1-wx)*(1-wy)*particle[3]\n",
    "        ave_vel_grid_y[i+1][j] = ave_vel_grid_y[i+1][j] + (wx)*(1-wy)*particle[3]\n",
    "        ave_vel_grid_y[i][j+1] = ave_vel_grid_y[i][j+1] + (1-wx)*(wy)*particle[3]\n",
    "        ave_vel_grid_y[i+1][j+1] = ave_vel_grid_y[i+1][j+1] + (wx)*(wy)*particle[3]\n",
    "\n",
    "        contributing_particles_grid[i][j] = contributing_particles_grid[i][j] + 1\n",
    "        contributing_particles_grid[i+1][j] = contributing_particles_grid[i+1][j] + 1\n",
    "        contributing_particles_grid[i][j+1] = contributing_particles_grid[i][j+1] + 1\n",
    "        contributing_particles_grid[i+1][j+1] = contributing_particles_grid[i+1][j+1] + 1\n",
    "\n",
    "    ave_vel_grid_x = ave_vel_grid_x / contributing_particles_grid\n",
    "    ave_vel_grid_y = ave_vel_grid_y / contributing_particles_grid\n",
    "\n",
    "    ave_vel_grid_x = np.nan_to_num(ave_vel_grid_x)\n",
    "    ave_vel_grid_y = np.nan_to_num(ave_vel_grid_y)"
   ]
  },
  {
   "cell_type": "code",
   "execution_count": 82,
   "metadata": {},
   "outputs": [],
   "source": [
    "def compute_ave_vel_grid_linear(particles, ave_vel_grid_x, ave_vel_grid_y, x, y):\n",
    "    dx = x[1] - x[0]\n",
    "    dy = y[1] - y[0]\n",
    "    contributing_particles_grid = np.zeros(ave_vel_grid_x.shape)\n",
    "    for particle in particles:\n",
    "        wx = compute_linear_weight(particle[0], x)\n",
    "        wy = compute_linear_weight(particle[1], y)\n",
    "        i = compute_index(particle[0],x[0],dx)\n",
    "        j = compute_index(particle[1],x[0],dy)\n",
    "\n",
    "        ave_vel_grid_x[i][j] = ave_vel_grid_x[i][j] + (1-wx)*(1-wy)*particle[2]\n",
    "        ave_vel_grid_x[i+1][j] = ave_vel_grid_x[i+1][j] + (wx)*(1-wy)*particle[2]\n",
    "        ave_vel_grid_x[i][j+1] = ave_vel_grid_x[i][j+1] + (1-wx)*(wy)*particle[2]\n",
    "        ave_vel_grid_x[i+1][j+1] = ave_vel_grid_x[i+1][j+1] + (wx)*(wy)*particle[2]\n",
    "\n",
    "        ave_vel_grid_y[i][j] = ave_vel_grid_y[i][j] + (1-wx)*(1-wy)*particle[3]\n",
    "        ave_vel_grid_y[i+1][j] = ave_vel_grid_y[i+1][j] + (wx)*(1-wy)*particle[3]\n",
    "        ave_vel_grid_y[i][j+1] = ave_vel_grid_y[i][j+1] + (1-wx)*(wy)*particle[3]\n",
    "        ave_vel_grid_y[i+1][j+1] = ave_vel_grid_y[i+1][j+1] + (wx)*(wy)*particle[3]\n",
    "\n",
    "        contributing_particles_grid[i][j] = contributing_particles_grid[i][j] + 1\n",
    "        contributing_particles_grid[i+1][j] = contributing_particles_grid[i+1][j] + 1\n",
    "        contributing_particles_grid[i][j+1] = contributing_particles_grid[i][j+1] + 1\n",
    "        contributing_particles_grid[i+1][j+1] = contributing_particles_grid[i+1][j+1] + 1\n",
    "\n",
    "    ave_vel_grid_x = ave_vel_grid_x / contributing_particles_grid\n",
    "    ave_vel_grid_y = ave_vel_grid_y / contributing_particles_grid\n",
    "\n",
    "    ave_vel_grid_x = np.nan_to_num(ave_vel_grid_x)\n",
    "    ave_vel_grid_y = np.nan_to_num(ave_vel_grid_y)"
   ]
  },
  {
   "cell_type": "code",
   "execution_count": 83,
   "metadata": {},
   "outputs": [],
   "source": [
    "p1 = np.array([.3,.4,-.2,.3])\n",
    "p2 = np.array([.7,.7,.2,.2])\n",
    "p3 = np.array([.4,.8,0,-.3])"
   ]
  },
  {
   "cell_type": "code",
   "execution_count": 84,
   "metadata": {},
   "outputs": [],
   "source": [
    "Nx = 11\n",
    "Ny = 11\n",
    "x = np.linspace(-5,5,Nx)\n",
    "y = np.linspace(-5,5,Ny)"
   ]
  },
  {
   "cell_type": "code",
   "execution_count": 85,
   "metadata": {},
   "outputs": [],
   "source": [
    "particles = np.array([p1,p2,p3])\n",
    "ave_vel_grid_x = np.zeros([Nx,Ny])\n",
    "ave_vel_grid_y = np.zeros([Nx,Ny])"
   ]
  },
  {
   "cell_type": "code",
   "execution_count": 86,
   "metadata": {},
   "outputs": [
    {
     "name": "stderr",
     "output_type": "stream",
     "text": [
      "C:\\Users\\StWhite\\AppData\\Local\\Temp\\ipykernel_51740\\1518323244.py:26: RuntimeWarning: invalid value encountered in divide\n",
      "  ave_vel_grid_x = ave_vel_grid_x / contributing_particles_grid\n",
      "C:\\Users\\StWhite\\AppData\\Local\\Temp\\ipykernel_51740\\1518323244.py:27: RuntimeWarning: invalid value encountered in divide\n",
      "  ave_vel_grid_y = ave_vel_grid_y / contributing_particles_grid\n"
     ]
    }
   ],
   "source": [
    "compute_ave_vel_grid_linear(particles, ave_vel_grid_x, ave_vel_grid_y, x, y)"
   ]
  },
  {
   "cell_type": "code",
   "execution_count": 88,
   "metadata": {},
   "outputs": [
    {
     "data": {
      "text/plain": [
       "array([[ 0.   ,  0.   ,  0.   ,  0.   ,  0.   ,  0.   ,  0.   ,  0.   ,\n",
       "         0.   ,  0.   ,  0.   ],\n",
       "       [ 0.   ,  0.   ,  0.   ,  0.   ,  0.   ,  0.   ,  0.   ,  0.   ,\n",
       "         0.   ,  0.   ,  0.   ],\n",
       "       [ 0.   ,  0.   ,  0.   ,  0.   ,  0.   ,  0.   ,  0.   ,  0.   ,\n",
       "         0.   ,  0.   ,  0.   ],\n",
       "       [ 0.   ,  0.   ,  0.   ,  0.   ,  0.   ,  0.   ,  0.   ,  0.   ,\n",
       "         0.   ,  0.   ,  0.   ],\n",
       "       [ 0.   ,  0.   ,  0.   ,  0.   ,  0.   ,  0.   ,  0.   ,  0.   ,\n",
       "         0.   ,  0.   ,  0.   ],\n",
       "       [ 0.   ,  0.   ,  0.   ,  0.   ,  0.   ,  0.   ,  0.   ,  0.   ,\n",
       "         0.   ,  0.   ,  0.   ],\n",
       "       [ 0.   ,  0.   ,  0.   ,  0.   ,  0.   ,  0.   , -0.206,  0.126,\n",
       "         0.   ,  0.   ,  0.   ],\n",
       "       [ 0.   ,  0.   ,  0.   ,  0.   ,  0.   ,  0.   ,  0.146, -0.066,\n",
       "         0.   ,  0.   ,  0.   ],\n",
       "       [ 0.   ,  0.   ,  0.   ,  0.   ,  0.   ,  0.   ,  0.   ,  0.   ,\n",
       "         0.   ,  0.   ,  0.   ],\n",
       "       [ 0.   ,  0.   ,  0.   ,  0.   ,  0.   ,  0.   ,  0.   ,  0.   ,\n",
       "         0.   ,  0.   ,  0.   ],\n",
       "       [ 0.   ,  0.   ,  0.   ,  0.   ,  0.   ,  0.   ,  0.   ,  0.   ,\n",
       "         0.   ,  0.   ,  0.   ]])"
      ]
     },
     "execution_count": 88,
     "metadata": {},
     "output_type": "execute_result"
    }
   ],
   "source": [
    "ave_vel_grid_x"
   ]
  },
  {
   "cell_type": "code",
   "execution_count": 89,
   "metadata": {},
   "outputs": [
    {
     "data": {
      "text/plain": [
       "array([[ 0.   ,  0.   ,  0.   ,  0.   ,  0.   ,  0.   ,  0.   ,  0.   ,\n",
       "         0.   ,  0.   ,  0.   ],\n",
       "       [ 0.   ,  0.   ,  0.   ,  0.   ,  0.   ,  0.   ,  0.   ,  0.   ,\n",
       "         0.   ,  0.   ,  0.   ],\n",
       "       [ 0.   ,  0.   ,  0.   ,  0.   ,  0.   ,  0.   ,  0.   ,  0.   ,\n",
       "         0.   ,  0.   ,  0.   ],\n",
       "       [ 0.   ,  0.   ,  0.   ,  0.   ,  0.   ,  0.   ,  0.   ,  0.   ,\n",
       "         0.   ,  0.   ,  0.   ],\n",
       "       [ 0.   ,  0.   ,  0.   ,  0.   ,  0.   ,  0.   ,  0.   ,  0.   ,\n",
       "         0.   ,  0.   ,  0.   ],\n",
       "       [ 0.   ,  0.   ,  0.   ,  0.   ,  0.   ,  0.   ,  0.   ,  0.   ,\n",
       "         0.   ,  0.   ,  0.   ],\n",
       "       [ 0.   ,  0.   ,  0.   ,  0.   ,  0.   ,  0.   ,  0.578, -0.288,\n",
       "         0.   ,  0.   ,  0.   ],\n",
       "       [ 0.   ,  0.   ,  0.   ,  0.   ,  0.   ,  0.   , -0.198,  0.108,\n",
       "         0.   ,  0.   ,  0.   ],\n",
       "       [ 0.   ,  0.   ,  0.   ,  0.   ,  0.   ,  0.   ,  0.   ,  0.   ,\n",
       "         0.   ,  0.   ,  0.   ],\n",
       "       [ 0.   ,  0.   ,  0.   ,  0.   ,  0.   ,  0.   ,  0.   ,  0.   ,\n",
       "         0.   ,  0.   ,  0.   ],\n",
       "       [ 0.   ,  0.   ,  0.   ,  0.   ,  0.   ,  0.   ,  0.   ,  0.   ,\n",
       "         0.   ,  0.   ,  0.   ]])"
      ]
     },
     "execution_count": 89,
     "metadata": {},
     "output_type": "execute_result"
    }
   ],
   "source": [
    "ave_vel_grid_y"
   ]
  },
  {
   "cell_type": "code",
   "execution_count": null,
   "metadata": {},
   "outputs": [],
   "source": []
  }
 ],
 "metadata": {
  "kernelspec": {
   "display_name": "Python 3",
   "language": "python",
   "name": "python3"
  },
  "language_info": {
   "codemirror_mode": {
    "name": "ipython",
    "version": 3
   },
   "file_extension": ".py",
   "mimetype": "text/x-python",
   "name": "python",
   "nbconvert_exporter": "python",
   "pygments_lexer": "ipython3",
   "version": "3.10.9"
  },
  "orig_nbformat": 4
 },
 "nbformat": 4,
 "nbformat_minor": 2
}
